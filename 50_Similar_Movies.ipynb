{
  "cells": [
    {
      "cell_type": "markdown",
      "id": "nW75quCwjZa1",
      "metadata": {
        "id": "nW75quCwjZa1"
      },
      "source": [
        "# install pyspark/java/findspark"
      ]
    },
    {
      "cell_type": "code",
      "execution_count": 1,
      "id": "99640558",
      "metadata": {
        "id": "99640558"
      },
      "outputs": [],
      "source": [
        "# install java\n",
        "!apt-get install openjdk-8-jdk-headless -qq > /dev/null\n",
        "\n",
        "# install spark (change the version number if needed)\n",
        "!wget -q https://archive.apache.org/dist/spark/spark-3.0.0/spark-3.0.0-bin-hadoop3.2.tgz\n",
        "\n",
        "# unzip the spark file to the current folder\n",
        "!tar xf spark-3.0.0-bin-hadoop3.2.tgz\n",
        "\n",
        "# set your spark folder to your system path environment.\n",
        "import os\n",
        "os.environ[\"JAVA_HOME\"] = \"/usr/lib/jvm/java-8-openjdk-amd64\"\n",
        "os.environ[\"SPARK_HOME\"] = \"/content/spark-3.0.0-bin-hadoop3.2\""
      ]
    },
    {
      "cell_type": "code",
      "execution_count": 2,
      "id": "f9a4bbd8",
      "metadata": {
        "colab": {
          "base_uri": "https://localhost:8080/"
        },
        "id": "f9a4bbd8",
        "outputId": "183caf04-24a3-438f-c260-ae7281dd808c"
      },
      "outputs": [
        {
          "output_type": "stream",
          "name": "stdout",
          "text": [
            "Collecting pyspark\n",
            "  Downloading pyspark-3.5.1.tar.gz (317.0 MB)\n",
            "\u001b[2K     \u001b[90m━━━━━━━━━━━━━━━━━━━━━━━━━━━━━━━━━━━━━━━━\u001b[0m \u001b[32m317.0/317.0 MB\u001b[0m \u001b[31m2.6 MB/s\u001b[0m eta \u001b[36m0:00:00\u001b[0m\n",
            "\u001b[?25h  Preparing metadata (setup.py) ... \u001b[?25l\u001b[?25hdone\n",
            "Requirement already satisfied: py4j==0.10.9.7 in /usr/local/lib/python3.10/dist-packages (from pyspark) (0.10.9.7)\n",
            "Building wheels for collected packages: pyspark\n",
            "  Building wheel for pyspark (setup.py) ... \u001b[?25l\u001b[?25hdone\n",
            "  Created wheel for pyspark: filename=pyspark-3.5.1-py2.py3-none-any.whl size=317488491 sha256=03635bb99fbc15b0302c95fda8e930b26f8a63ebff41e4213c365085e15e4ed8\n",
            "  Stored in directory: /root/.cache/pip/wheels/80/1d/60/2c256ed38dddce2fdd93be545214a63e02fbd8d74fb0b7f3a6\n",
            "Successfully built pyspark\n",
            "Installing collected packages: pyspark\n",
            "Successfully installed pyspark-3.5.1\n"
          ]
        }
      ],
      "source": [
        "# install findspark using pip\n",
        "!pip install -q findspark\n",
        "!pip install pyspark"
      ]
    },
    {
      "cell_type": "code",
      "execution_count": 3,
      "id": "pT1vOkcWn-wz",
      "metadata": {
        "colab": {
          "base_uri": "https://localhost:8080/"
        },
        "id": "pT1vOkcWn-wz",
        "outputId": "04ca9bd3-964f-4c21-a042-cf47a53b1eca"
      },
      "outputs": [
        {
          "output_type": "stream",
          "name": "stdout",
          "text": [
            "Mounted at /content/drive\n"
          ]
        }
      ],
      "source": [
        "from google.colab import drive\n",
        "drive.mount('/content/drive')"
      ]
    },
    {
      "cell_type": "code",
      "execution_count": 4,
      "id": "lXRTN5XUhUZB",
      "metadata": {
        "id": "lXRTN5XUhUZB"
      },
      "outputs": [],
      "source": [
        "import findspark\n",
        "findspark.init()"
      ]
    },
    {
      "cell_type": "code",
      "execution_count": 5,
      "id": "45b56f64",
      "metadata": {
        "id": "45b56f64"
      },
      "outputs": [],
      "source": [
        "from pyspark.sql import SparkSession\n",
        "from pyspark.sql import functions as func\n",
        "from pyspark.sql.types import StructType, StructField, StringType, IntegerType, LongType\n",
        "import sys"
      ]
    },
    {
      "cell_type": "code",
      "execution_count": 6,
      "id": "c2f5a7ec",
      "metadata": {
        "id": "c2f5a7ec"
      },
      "outputs": [],
      "source": [
        "def getMovieName(movieNames, movieId):\n",
        "    result = movieNames.filter(func.col(\"movieID\") == movieId).select(\"movieTitle\").collect()[0]\n",
        "    return result[0]"
      ]
    },
    {
      "cell_type": "code",
      "execution_count": 7,
      "id": "74b4e84f",
      "metadata": {
        "id": "74b4e84f"
      },
      "outputs": [],
      "source": [
        "def computeCosineSimilarity(data):\n",
        "    pairScores = data \\\n",
        "      .withColumn(\"xx\", func.col(\"rating1\") * func.col(\"rating1\")) \\\n",
        "      .withColumn(\"yy\", func.col(\"rating2\") * func.col(\"rating2\")) \\\n",
        "      .withColumn(\"xy\", func.col(\"rating1\") * func.col(\"rating2\"))\n",
        "\n",
        "    calculateSimilarity = pairScores \\\n",
        "      .groupBy(\"movie1\", \"movie2\") \\\n",
        "      .agg( \\\n",
        "        func.sum(func.col(\"xy\")).alias(\"numerator\"), \\\n",
        "        (func.sqrt(func.sum(func.col(\"xx\"))) * func.sqrt(func.sum(func.col(\"yy\")))).alias(\"denominator\"), \\\n",
        "        func.count(func.col(\"xy\")).alias(\"numPairs\")\n",
        "      )\n",
        "\n",
        "    result = calculateSimilarity \\\n",
        "      .withColumn(\"score\", \\\n",
        "        func.when(func.col(\"denominator\") != 0, func.col(\"numerator\") / func.col(\"denominator\")) \\\n",
        "          .otherwise(0) \\\n",
        "      ).select(\"movie1\", \"movie2\", \"score\", \"numPairs\")\n",
        "\n",
        "    return result"
      ]
    },
    {
      "cell_type": "code",
      "execution_count": 8,
      "id": "9b2776fa",
      "metadata": {
        "id": "9b2776fa"
      },
      "outputs": [],
      "source": [
        "spark = SparkSession.builder.appName(\"MovieSimilarities\").getOrCreate()"
      ]
    },
    {
      "cell_type": "code",
      "execution_count": 9,
      "id": "eb0a790d",
      "metadata": {
        "id": "eb0a790d"
      },
      "outputs": [],
      "source": [
        "movieNamesSchema = StructType([StructField(\"movieID\", IntegerType(), True), StructField(\"movieTitle\", StringType(), True)])\n",
        "\n",
        "moviesSchema = StructType([ \\\n",
        "                     StructField(\"userID\", IntegerType(), True), \\\n",
        "                     StructField(\"movieID\", IntegerType(), True), \\\n",
        "                     StructField(\"rating\", IntegerType(), True), \\\n",
        "                     StructField(\"timestamp\", LongType(), True)])"
      ]
    },
    {
      "cell_type": "markdown",
      "id": "9Yi1CPypj0b4",
      "metadata": {
        "id": "9Yi1CPypj0b4"
      },
      "source": [
        "import data from google drive"
      ]
    },
    {
      "cell_type": "code",
      "execution_count": 10,
      "id": "6ab5d78f",
      "metadata": {
        "id": "6ab5d78f"
      },
      "outputs": [],
      "source": [
        "movieNames = spark.read \\\n",
        "      .option(\"sep\", \"|\") \\\n",
        "      .option(\"charset\", \"ISO-8859-1\") \\\n",
        "      .schema(movieNamesSchema) \\\n",
        "      .csv(\"/content/drive/MyDrive/Colab Notebooks/spark-course/ml-100k/u.item\")\n",
        "\n",
        "movies = spark.read \\\n",
        "      .option(\"sep\", \"\\t\") \\\n",
        "      .schema(moviesSchema) \\\n",
        "      .csv(\"/content/drive/MyDrive/Colab Notebooks/spark-course/ml-100k/u.data\")"
      ]
    },
    {
      "cell_type": "code",
      "execution_count": 11,
      "id": "1e876563",
      "metadata": {
        "id": "1e876563"
      },
      "outputs": [],
      "source": [
        "ratings = movies.select(\"userId\", \"movieId\", \"rating\")"
      ]
    },
    {
      "cell_type": "code",
      "execution_count": 12,
      "id": "35c4f7d2",
      "metadata": {
        "id": "35c4f7d2"
      },
      "outputs": [],
      "source": [
        "moviePairs = ratings.alias(\"ratings1\") \\\n",
        "      .join(ratings.alias(\"ratings2\"), (func.col(\"ratings1.userId\") == func.col(\"ratings2.userId\")) \\\n",
        "            & (func.col(\"ratings1.movieId\") < func.col(\"ratings2.movieId\"))) \\\n",
        "      .select(func.col(\"ratings1.movieId\").alias(\"movie1\"), \\\n",
        "        func.col(\"ratings2.movieId\").alias(\"movie2\"), \\\n",
        "        func.col(\"ratings1.rating\").alias(\"rating1\"), \\\n",
        "        func.col(\"ratings2.rating\").alias(\"rating2\"))"
      ]
    },
    {
      "cell_type": "code",
      "execution_count": 13,
      "id": "3ab3e6d4",
      "metadata": {
        "id": "3ab3e6d4"
      },
      "outputs": [],
      "source": [
        "moviePairSimilarities = computeCosineSimilarity(moviePairs).cache()"
      ]
    },
    {
      "cell_type": "code",
      "execution_count": 14,
      "id": "f2010a9f",
      "metadata": {
        "colab": {
          "base_uri": "https://localhost:8080/"
        },
        "id": "f2010a9f",
        "outputId": "82852254-e2d2-4317-822d-ea3d0ad9c5c9"
      },
      "outputs": [
        {
          "output_type": "stream",
          "name": "stdout",
          "text": [
            "Top 10 similar movies for Pulp Fiction (1994)\n",
            "Smoke (1995)\tscore: 0.9743848338030823\tstrength: 68\n",
            "Reservoir Dogs (1992)\tscore: 0.9740674165782123\tstrength: 134\n",
            "Donnie Brasco (1997)\tscore: 0.9738247291149608\tstrength: 75\n",
            "Sling Blade (1996)\tscore: 0.9713796344244161\tstrength: 111\n",
            "True Romance (1993)\tscore: 0.9707295689679896\tstrength: 99\n",
            "Jackie Brown (1997)\tscore: 0.9706179145690377\tstrength: 55\n",
            "Carlito's Way (1993)\tscore: 0.9706021261759088\tstrength: 52\n"
          ]
        }
      ],
      "source": [
        "scoreThreshold = 0.97\n",
        "coOccurrenceThreshold = 50.0\n",
        "\n",
        "movieID = 56\n",
        "\n",
        "filteredResults = moviePairSimilarities.filter( \\\n",
        "    ((func.col(\"movie1\") == movieID) | (func.col(\"movie2\") == movieID)) & \\\n",
        "      (func.col(\"score\") > scoreThreshold) & (func.col(\"numPairs\") > coOccurrenceThreshold))\n",
        "\n",
        "results = filteredResults.sort(func.col(\"score\").desc()).take(10)\n",
        "\n",
        "print (\"Top 10 similar movies for \" + getMovieName(movieNames, movieID))\n",
        "\n",
        "for result in results:\n",
        "    similarMovieID = result.movie1\n",
        "    if (similarMovieID == movieID):\n",
        "          similarMovieID = result.movie2\n",
        "\n",
        "    print(getMovieName(movieNames, similarMovieID) + \"\\tscore: \" \\\n",
        "          + str(result.score) + \"\\tstrength: \" + str(result.numPairs))"
      ]
    },
    {
      "cell_type": "code",
      "execution_count": 15,
      "id": "b0963a09",
      "metadata": {
        "id": "b0963a09"
      },
      "outputs": [],
      "source": [
        "spark.stop()"
      ]
    }
  ],
  "metadata": {
    "colab": {
      "provenance": []
    },
    "kernelspec": {
      "display_name": "Python 3 (ipykernel)",
      "language": "python",
      "name": "python3"
    },
    "language_info": {
      "codemirror_mode": {
        "name": "ipython",
        "version": 3
      },
      "file_extension": ".py",
      "mimetype": "text/x-python",
      "name": "python",
      "nbconvert_exporter": "python",
      "pygments_lexer": "ipython3",
      "version": "3.10.4"
    }
  },
  "nbformat": 4,
  "nbformat_minor": 5
}